{
 "cells": [
  {
   "cell_type": "markdown",
   "id": "675d9d82",
   "metadata": {},
   "source": [
    "Question1 Create a function that takes a string and returns a string in which each character is repeated once. Examples double_char(\"String\") ➞ \"SSttrriinngg\"\n",
    "\n",
    "double_char(\"Hello World!\") ➞ \"HHeelllloo WWoorrlldd!!\"\n",
    "\n",
    "double_char(\"1234!_ \") ➞ \"11223344!!__ \""
   ]
  },
  {
   "cell_type": "code",
   "execution_count": 13,
   "id": "787a6a92",
   "metadata": {},
   "outputs": [
    {
     "name": "stdout",
     "output_type": "stream",
     "text": [
      "Enter string - Hello World!\n"
     ]
    },
    {
     "data": {
      "text/plain": [
       "'HHeelllloo  WWoorrlldd!!'"
      ]
     },
     "execution_count": 13,
     "metadata": {},
     "output_type": "execute_result"
    }
   ],
   "source": [
    "#method 1st\n",
    "\n",
    "def double_char(a):\n",
    "    h=\"\"\n",
    "    for i in a:\n",
    "        h = h+i+i\n",
    "        \n",
    "    return h\n",
    "\n",
    "double_char(input(\"Enter string - \"))"
   ]
  },
  {
   "cell_type": "code",
   "execution_count": 17,
   "id": "d5b2ae5e",
   "metadata": {},
   "outputs": [
    {
     "name": "stdout",
     "output_type": "stream",
     "text": [
      "Enter string - Hello World!\n"
     ]
    },
    {
     "data": {
      "text/plain": [
       "'HHeelllloo  WWoorrlldd!!'"
      ]
     },
     "execution_count": 17,
     "metadata": {},
     "output_type": "execute_result"
    }
   ],
   "source": [
    "#Mehtod 2nd\n",
    "\n",
    "def double_char(a):\n",
    "    i=0\n",
    "    h=\"\"\n",
    "    while i<len(a):\n",
    "        h = h+a[i]+a[i]\n",
    "        i=i+1\n",
    "        \n",
    "    return h\n",
    "\n",
    "double_char(input(\"Enter string - \"))"
   ]
  },
  {
   "cell_type": "markdown",
   "id": "678d7e1e",
   "metadata": {},
   "source": [
    "Question2 Create a function that reverses a boolean value and returns the string \"boolean expected\" if another variable type is given. Examples reverse(True) ➞ False\n",
    "\n",
    "reverse(False) ➞ True\n",
    "\n",
    "reverse(0) ➞ \"boolean expected\"\n",
    "\n",
    "reverse(None) ➞ \"boolean expected\""
   ]
  },
  {
   "cell_type": "code",
   "execution_count": 30,
   "id": "68b1e884",
   "metadata": {},
   "outputs": [
    {
     "name": "stdout",
     "output_type": "stream",
     "text": [
      "False\n",
      "True\n",
      "boolean expected\n",
      "boolean expected\n"
     ]
    }
   ],
   "source": [
    "def reverse(arg=None):\n",
    "    return not arg if type(arg) == bool else \"boolean expected\"\n",
    "\n",
    "print(reverse(True)) # False\n",
    "print(reverse(False)) # True\n",
    "print(reverse(0)) # \"boolean expected\"\n",
    "print(reverse(None)) # \"boolean expected\""
   ]
  },
  {
   "cell_type": "markdown",
   "id": "9c22d2d0",
   "metadata": {},
   "source": [
    "Question3 Create a function that returns the thickness (in meters) of a piece of paper after folding it n number of times. The paper starts off with a thickness of 0.5mm. Examples num_layers(1) ➞ \"0.001m\" Paper folded once is 1mm (equal to 0.001m)\n",
    "\n",
    "num_layers(4) ➞ \"0.008m\" Paper folded 4 times is 8mm (equal to 0.008m)\n",
    "\n",
    "num_layers(21) ➞ \"1048.576m\" Paper folded 21 times is 1048576mm (equal to 1048.576m)"
   ]
  },
  {
   "cell_type": "code",
   "execution_count": 24,
   "id": "dcc9548d",
   "metadata": {},
   "outputs": [
    {
     "name": "stdout",
     "output_type": "stream",
     "text": [
      "enter number  - 4\n"
     ]
    },
    {
     "data": {
      "text/plain": [
       "0.008"
      ]
     },
     "execution_count": 24,
     "metadata": {},
     "output_type": "execute_result"
    }
   ],
   "source": [
    "def num_layers(n):\n",
    "    n=((2)**n)*(0.5)\n",
    "    return n/1000\n",
    "num_layers(int(input(\"enter number  - \")))"
   ]
  },
  {
   "cell_type": "markdown",
   "id": "537b3440",
   "metadata": {},
   "source": [
    "Question4 Create a function that takes a single string as argument and returns an ordered list containing the indices of all capital letters in the string. Examples index_of_caps(\"eDaBiT\") ➞ [1, 3, 5]\n",
    "\n",
    "index_of_caps(\"eQuINoX\") ➞ [1, 3, 4, 6]\n",
    "\n",
    "index_of_caps(\"determine\") ➞ []\n",
    "\n",
    "index_of_caps(\"STRIKE\") ➞ [0, 1, 2, 3, 4, 5]\n",
    "\n",
    "index_of_caps(\"sUn\") ➞ [1]"
   ]
  },
  {
   "cell_type": "code",
   "execution_count": 32,
   "id": "5fb1a4e2",
   "metadata": {},
   "outputs": [
    {
     "data": {
      "text/plain": [
       "[1, 3, 5]"
      ]
     },
     "execution_count": 32,
     "metadata": {},
     "output_type": "execute_result"
    }
   ],
   "source": [
    "#Method 1\n",
    "\n",
    "def index_of_caps(a):\n",
    "    g=[]\n",
    "    for i in range(len(a)):\n",
    "        if h[i].isupper():\n",
    "            g.append(i)\n",
    "    return g\n",
    "    \n",
    "index_of_caps(\"eDaBiT\")\n",
    "       \n",
    "       "
   ]
  },
  {
   "cell_type": "code",
   "execution_count": 4,
   "id": "e1c24a1a",
   "metadata": {},
   "outputs": [
    {
     "name": "stdout",
     "output_type": "stream",
     "text": [
      "Enter word - eDaBiT\n"
     ]
    },
    {
     "data": {
      "text/plain": [
       "[1, 3, 5]"
      ]
     },
     "execution_count": 4,
     "metadata": {},
     "output_type": "execute_result"
    }
   ],
   "source": [
    "#Method 2\n",
    "\n",
    "def index_of_caps(a):\n",
    "    i=0\n",
    "    g=[]\n",
    "    while i<len(a):\n",
    "        if a[i].isupper():\n",
    "            g.append(i)\n",
    "        i=i+1\n",
    "    return g\n",
    "    \n",
    "    \n",
    "index_of_caps(input(\"Enter word - \"))\n",
    "  "
   ]
  },
  {
   "cell_type": "code",
   "execution_count": 26,
   "id": "22e1c582",
   "metadata": {},
   "outputs": [
    {
     "name": "stdout",
     "output_type": "stream",
     "text": [
      "[1, 3, 5]\n"
     ]
    }
   ],
   "source": [
    "#Method 3\n",
    "\n",
    "h = \"eDaBiT\"\n",
    "g=[]\n",
    "for i in range(len(h)):\n",
    "    if h[i].isupper():\n",
    "        g.append(i)\n",
    "        \n",
    "print(g)"
   ]
  },
  {
   "cell_type": "markdown",
   "id": "044df5e4",
   "metadata": {},
   "source": [
    "Question5 Using list comprehensions, create a function that finds all even numbers from 1 to the given number. Examples find_even_nums(8) ➞ [2, 4, 6, 8]\n",
    "\n",
    "find_even_nums(4) ➞ [2, 4]\n",
    "\n",
    "find_even_nums(2) ➞ [2]"
   ]
  },
  {
   "cell_type": "code",
   "execution_count": 28,
   "id": "272f2bca",
   "metadata": {},
   "outputs": [
    {
     "name": "stdout",
     "output_type": "stream",
     "text": [
      "Enter number - 10\n",
      "[0, 2, 4, 6, 8]\n"
     ]
    }
   ],
   "source": [
    "#Method 1\n",
    "\n",
    "u = int(input(\"Enter number - \"))\n",
    "k=[]\n",
    "l = [k.append(i) for i in range(u) if i%2==0]\n",
    "print(k)"
   ]
  },
  {
   "cell_type": "code",
   "execution_count": 29,
   "id": "7ef04636",
   "metadata": {},
   "outputs": [
    {
     "name": "stdout",
     "output_type": "stream",
     "text": [
      "Enter number - 10\n",
      "0\n",
      "2\n",
      "4\n",
      "6\n",
      "8\n"
     ]
    }
   ],
   "source": [
    "#Method 2\n",
    "\n",
    "u = int(input(\"Enter number - \"))\n",
    "for i in range(u):\n",
    "    if i%2==0:\n",
    "        print(i)\n",
    "    "
   ]
  },
  {
   "cell_type": "code",
   "execution_count": 13,
   "id": "bd840eeb",
   "metadata": {},
   "outputs": [
    {
     "name": "stdout",
     "output_type": "stream",
     "text": [
      "enter number5\n"
     ]
    },
    {
     "data": {
      "text/plain": [
       "[0, 2, 4]"
      ]
     },
     "execution_count": 13,
     "metadata": {},
     "output_type": "execute_result"
    }
   ],
   "source": [
    "#Method 3\n",
    "\n",
    "def find_even_nums(a):\n",
    "    h=[]\n",
    "    for i in range(a):\n",
    "        if i%2==0:\n",
    "            h.append(i)\n",
    "            \n",
    "    return h\n",
    "\n",
    "find_even_nums(int(input(\"enter number\")))           \n",
    "            "
   ]
  },
  {
   "cell_type": "code",
   "execution_count": null,
   "id": "de82539d",
   "metadata": {},
   "outputs": [],
   "source": []
  }
 ],
 "metadata": {
  "kernelspec": {
   "display_name": "Python 3 (ipykernel)",
   "language": "python",
   "name": "python3"
  },
  "language_info": {
   "codemirror_mode": {
    "name": "ipython",
    "version": 3
   },
   "file_extension": ".py",
   "mimetype": "text/x-python",
   "name": "python",
   "nbconvert_exporter": "python",
   "pygments_lexer": "ipython3",
   "version": "3.9.12"
  }
 },
 "nbformat": 4,
 "nbformat_minor": 5
}
