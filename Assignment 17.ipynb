{
 "cells": [
  {
   "cell_type": "markdown",
   "id": "1c3771e7",
   "metadata": {},
   "source": [
    " Question1. Create a function that takes three arguments a, b, c and returns the sum of the numbers that are evenly divided by c from the range a, b inclusive. Examples evenly_divisible(1, 10, 20) ➞ 0\n",
    "\n",
    "No number between 1 and 10 can be evenly divided by 20.\n",
    "evenly_divisible(1, 10, 2) ➞ 30\n",
    "\n",
    "2 + 4 + 6 + 8 + 10 = 30\n",
    "evenly_divisible(1, 10, 3) ➞ 18\n",
    "\n",
    "3 + 6 + 9 = 18"
   ]
  },
  {
   "cell_type": "code",
   "execution_count": 38,
   "id": "620e1e83",
   "metadata": {},
   "outputs": [
    {
     "name": "stdout",
     "output_type": "stream",
     "text": [
      "Enter 1st - 10\n",
      "Enter 2nd -20\n",
      "Enter divided by - 2\n",
      "10\n",
      "12\n",
      "14\n",
      "16\n",
      "18\n"
     ]
    }
   ],
   "source": [
    "def even_divisible(a,b,c):\n",
    "        \n",
    "    for i in range(a,b):\n",
    "        if i%c==0:\n",
    "            \n",
    "            print(i) \n",
    "\n",
    "even_divisible(int(input(\"Enter 1st - \")),int(input(\"Enter 2nd -\")),int(input(\"Enter divided by - \")))"
   ]
  },
  {
   "cell_type": "markdown",
   "id": "d10a5c37",
   "metadata": {},
   "source": [
    "Question2. Create a function that returns True if a given inequality expression is correct and False otherwise. Examples correct_signs(\"3 < 7 < 11\") ➞ True\n",
    "\n",
    "correct_signs(\"13 > 44 > 33 > 1\") ➞ False\n",
    "\n",
    "correct_signs(\"1 < 2 < 6 < 9 > 3\") ➞ True"
   ]
  },
  {
   "cell_type": "code",
   "execution_count": 39,
   "id": "c40874b9",
   "metadata": {},
   "outputs": [],
   "source": [
    "def correct_signs(arg):\n",
    "    return eval(arg)"
   ]
  },
  {
   "cell_type": "code",
   "execution_count": 40,
   "id": "2e7ac2d4",
   "metadata": {},
   "outputs": [
    {
     "data": {
      "text/plain": [
       "False"
      ]
     },
     "execution_count": 40,
     "metadata": {},
     "output_type": "execute_result"
    }
   ],
   "source": [
    "correct_signs(\"3 > 7 < 11\")"
   ]
  },
  {
   "cell_type": "code",
   "execution_count": 41,
   "id": "e5533d77",
   "metadata": {},
   "outputs": [
    {
     "data": {
      "text/plain": [
       "False"
      ]
     },
     "execution_count": 41,
     "metadata": {},
     "output_type": "execute_result"
    }
   ],
   "source": [
    "correct_signs(\"13 > 44 > 33 > 1\")"
   ]
  },
  {
   "cell_type": "code",
   "execution_count": 42,
   "id": "ac2d9ef5",
   "metadata": {},
   "outputs": [
    {
     "data": {
      "text/plain": [
       "True"
      ]
     },
     "execution_count": 42,
     "metadata": {},
     "output_type": "execute_result"
    }
   ],
   "source": [
    "correct_signs(\"1 < 2 < 6 < 9 > 3\")"
   ]
  },
  {
   "cell_type": "markdown",
   "id": "c8f748bf",
   "metadata": {},
   "source": [
    "Question3. Create a function that replaces all the vowels in a string with a specified character. Examples replace_vowels(\"the aardvark\", \"#\") ➞ \"th# ##rdv#rk\"\n",
    "\n",
    "replace_vowels(\"minnie mouse\", \"?\") ➞ \"m?nn?? m??s?\"\n",
    "\n",
    "replace_vowels(\"shakespeare\", \"*\") ➞ \"shksp*r\""
   ]
  },
  {
   "cell_type": "code",
   "execution_count": 84,
   "id": "467c26d7",
   "metadata": {},
   "outputs": [
    {
     "name": "stdout",
     "output_type": "stream",
     "text": [
      "enter string - you are so lucky\n",
      "specified character - #\n",
      "y#u are s# lucky\n"
     ]
    }
   ],
   "source": [
    "def replace_vowels(a,b):\n",
    "    k=\"\"\n",
    "    for i in a:\n",
    "        if i in [\"a\",\"e\",\"i\",\"o\",\"u\"]:\n",
    "             k=a.replace(i,b)\n",
    "             print(k) \n",
    "             break\n",
    "                 \n",
    "              \n",
    "replace_vowels(input(\"enter string - \"),input(\"specified character - \"))\n"
   ]
  },
  {
   "cell_type": "code",
   "execution_count": 85,
   "id": "563ea50e",
   "metadata": {},
   "outputs": [
    {
     "name": "stdout",
     "output_type": "stream",
     "text": [
      "enter string - i am so lucky\n",
      "specified character - &\n",
      "& am so lucky\n"
     ]
    }
   ],
   "source": [
    "def replace_vowels(a,b):\n",
    "    k=\"\"\n",
    "    for i in a:\n",
    "        if i==\"a\" or i==\"e\" or i==\"i\" or i==\"o\" or i==\"u\":\n",
    "            k=a.replace(i,b)            \n",
    "            print(k)\n",
    "            break\n",
    "              \n",
    "replace_vowels(input(\"enter string - \"),input(\"specified character - \"))"
   ]
  },
  {
   "cell_type": "markdown",
   "id": "37a6272c",
   "metadata": {},
   "source": [
    "Question4. Write a function that calculates the factorial of a number recursively. Examples factorial(5) ➞ 120\n",
    "\n",
    "factorial(3) ➞ 6\n",
    "\n",
    "factorial(1) ➞ 1\n",
    "\n",
    "factorial(0) ➞ 1"
   ]
  },
  {
   "cell_type": "code",
   "execution_count": 105,
   "id": "d3059d27",
   "metadata": {},
   "outputs": [
    {
     "name": "stdout",
     "output_type": "stream",
     "text": [
      "enter no -5\n"
     ]
    },
    {
     "data": {
      "text/plain": [
       "120"
      ]
     },
     "execution_count": 105,
     "metadata": {},
     "output_type": "execute_result"
    }
   ],
   "source": [
    "def factorial(a):\n",
    "    h=1\n",
    "    for i in range(a,0,-1):\n",
    "        h=h*i\n",
    "    return h\n",
    "\n",
    "factorial(int(input(\"enter no -\")))    "
   ]
  },
  {
   "cell_type": "markdown",
   "id": "2e217c49",
   "metadata": {},
   "source": [
    "Question 5 Hamming distance is the number of characters that differ between two strings. To illustrate: String1: \"abcbba\" String2: \"abcbda\"\n",
    "\n",
    "Hamming Distance: 1 - \"b\" vs. \"d\" is the only difference. Create a function that computes the hamming distance between two strings. Examples hamming_distance(\"abcde\", \"bcdef\") ➞ 5\n",
    "\n",
    "hamming_distance(\"abcde\", \"abcde\") ➞ 0\n",
    "\n",
    "hamming_distance(\"strong\", \"strung\") ➞ 1"
   ]
  },
  {
   "cell_type": "code",
   "execution_count": 128,
   "id": "401a9bfa",
   "metadata": {},
   "outputs": [
    {
     "name": "stdout",
     "output_type": "stream",
     "text": [
      "5\n"
     ]
    }
   ],
   "source": [
    "def hamming_distance(str1, str2):\n",
    "    i = 0\n",
    "    count = 0\n",
    " \n",
    "    while(i < len(str1)):\n",
    "        if(str1[i] != str2[i]):\n",
    "            count += 1\n",
    "        i += 1\n",
    "    return count\n",
    " \n",
    "# Driver code \n",
    "str1 = \"abcde\"\n",
    "str2 = \"bcdef\"\n",
    " \n",
    "# function call\n",
    "print(hamming_distance(str1, str2))"
   ]
  },
  {
   "cell_type": "code",
   "execution_count": null,
   "id": "968870c8",
   "metadata": {},
   "outputs": [],
   "source": []
  }
 ],
 "metadata": {
  "kernelspec": {
   "display_name": "Python 3 (ipykernel)",
   "language": "python",
   "name": "python3"
  },
  "language_info": {
   "codemirror_mode": {
    "name": "ipython",
    "version": 3
   },
   "file_extension": ".py",
   "mimetype": "text/x-python",
   "name": "python",
   "nbconvert_exporter": "python",
   "pygments_lexer": "ipython3",
   "version": "3.9.12"
  }
 },
 "nbformat": 4,
 "nbformat_minor": 5
}
