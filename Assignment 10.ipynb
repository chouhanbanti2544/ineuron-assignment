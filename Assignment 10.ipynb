{
 "cells": [
  {
   "cell_type": "markdown",
   "id": "88f81325",
   "metadata": {},
   "source": [
    "Assignment 10"
   ]
  },
  {
   "cell_type": "markdown",
   "id": "22807765",
   "metadata": {},
   "source": [
    "1. a Python program to find sum of elements in list?"
   ]
  },
  {
   "cell_type": "code",
   "execution_count": 4,
   "id": "a9a6bb60",
   "metadata": {},
   "outputs": [
    {
     "name": "stdout",
     "output_type": "stream",
     "text": [
      "Enter the length of List :- 5\n",
      "1\n",
      "2\n",
      "3\n",
      "4\n",
      "5\n",
      "List -  [1, 2, 3, 4, 5]\n",
      "sum of list -  15\n"
     ]
    }
   ],
   "source": [
    "k= int(input(\"Enter the length of List :- \"))\n",
    "l=[]\n",
    "z=0\n",
    "for i in range(k):\n",
    "    l.append(int(input()))\n",
    "for j in l:\n",
    "    z=z+j\n",
    "    \n",
    "print(\"List - \",l)\n",
    "print(\"sum of list - \", z) "
   ]
  },
  {
   "cell_type": "markdown",
   "id": "a474498c",
   "metadata": {},
   "source": [
    "2. Write a Python program to Multiply all numbers in the list?"
   ]
  },
  {
   "cell_type": "code",
   "execution_count": 31,
   "id": "cd88b062",
   "metadata": {},
   "outputs": [
    {
     "name": "stdout",
     "output_type": "stream",
     "text": [
      "Enter the length of list5\n",
      "1\n",
      "2\n",
      "3\n",
      "5\n",
      "5\n",
      "list -  [1, 2, 3, 5, 5]\n",
      "Multiply all numbers -  150\n"
     ]
    }
   ],
   "source": [
    "h = int(input(\"Enter the length of list\"))\n",
    "l=[]\n",
    "\n",
    "for i in range(h):\n",
    "    l.append(int(input()))\n",
    "    \n",
    "o=1\n",
    "for j in l:\n",
    "    o=o*j\n",
    "   \n",
    "        \n",
    "print(\"list - \",l)\n",
    "print(\"Multiply all numbers - \",o)"
   ]
  },
  {
   "cell_type": "markdown",
   "id": "a8e92390",
   "metadata": {},
   "source": [
    "3. Write a Python program to find smallest number in a list?"
   ]
  },
  {
   "cell_type": "code",
   "execution_count": 2,
   "id": "5135938f",
   "metadata": {},
   "outputs": [
    {
     "name": "stdout",
     "output_type": "stream",
     "text": [
      "Enter the length of list - 5\n",
      "1\n",
      "2\n",
      "3\n",
      "4\n",
      "5\n",
      "List -  [1, 2, 3, 4, 5]\n",
      "smallest number -  1\n"
     ]
    }
   ],
   "source": [
    "a = int(input(\"Enter the length of list - \"))\n",
    "k=[]\n",
    "for i in range(a):\n",
    "    k.append(int(input()))\n",
    "print(\"List - \",k)\n",
    "print(\"smallest number - \",min(k))\n",
    "    "
   ]
  },
  {
   "cell_type": "markdown",
   "id": "0e4189b8",
   "metadata": {},
   "source": [
    "4. Write a Python program to find largest number in a list?"
   ]
  },
  {
   "cell_type": "code",
   "execution_count": 5,
   "id": "de29b995",
   "metadata": {},
   "outputs": [
    {
     "name": "stdout",
     "output_type": "stream",
     "text": [
      "Enter the length of list - 5\n",
      "1\n",
      "2\n",
      "3\n",
      "4\n",
      "5\n",
      "List -  [1, 2, 3, 4, 5]\n",
      "largest number -  5\n"
     ]
    }
   ],
   "source": [
    "a = int(input(\"Enter the length of list - \"))\n",
    "k=[]\n",
    "for i in range(a):\n",
    "    k.append(int(input()))\n",
    "print(\"List - \",k)\n",
    "print(\"largest number - \",max(k))"
   ]
  },
  {
   "cell_type": "markdown",
   "id": "d140f15d",
   "metadata": {},
   "source": [
    "5. write a Python program to find second largest number in a list?"
   ]
  },
  {
   "cell_type": "code",
   "execution_count": 12,
   "id": "f5400bdf",
   "metadata": {},
   "outputs": [
    {
     "name": "stdout",
     "output_type": "stream",
     "text": [
      "Enter the length of list - 5\n",
      "1\n",
      "2\n",
      "3\n",
      "4\n",
      "5\n",
      "5\n",
      "List after sort-  [1, 2, 3, 4, 5]\n",
      "second largest number -  4\n"
     ]
    }
   ],
   "source": [
    "a = int(input(\"Enter the length of list - \"))\n",
    "k=[]\n",
    "\n",
    "for i in range(a):\n",
    "    k.append(int(input()))\n",
    "\n",
    "\n",
    "k.sort()\n",
    "\n",
    "print(a)\n",
    "print(\"List after sort- \",k)             \n",
    "print(\"second largest number - \",k[-2])"
   ]
  },
  {
   "cell_type": "markdown",
   "id": "a668c7f7",
   "metadata": {},
   "source": [
    "6. Write a Python program to find N largest elements from a list?"
   ]
  },
  {
   "cell_type": "code",
   "execution_count": 4,
   "id": "3e1ca8d0",
   "metadata": {},
   "outputs": [
    {
     "name": "stdout",
     "output_type": "stream",
     "text": [
      "Enter the length of list - 5\n",
      "45\n",
      "12\n",
      "89\n",
      "63\n",
      "24\n",
      "Enter a list -  [12, 24, 45, 63, 89]\n",
      "Enter how many larest number print - 2\n",
      "[63, 89]\n"
     ]
    }
   ],
   "source": [
    "n=int(input(\"Enter the length of list - \"))\n",
    "p=[]\n",
    "\n",
    "for i in range(n):\n",
    "    p.append(int(input()))\n",
    "\n",
    "\n",
    "p.sort()\n",
    "print(\"Enter a list - \", p)\n",
    "\n",
    "\n",
    "print(p[-(int(input(\"Enter how many larest number print - \"))):])"
   ]
  },
  {
   "cell_type": "markdown",
   "id": "b6d36ac7",
   "metadata": {},
   "source": [
    "Q7. Write a Python program to print even numbers in a list?"
   ]
  },
  {
   "cell_type": "code",
   "execution_count": 13,
   "id": "8fae2273",
   "metadata": {},
   "outputs": [
    {
     "name": "stdout",
     "output_type": "stream",
     "text": [
      "Enter the length of list - 5\n",
      "1\n",
      "2\n",
      "3\n",
      "4\n",
      "5\n",
      "List -  [1, 2, 3, 4, 5]\n",
      "Even no - [2, 4]\n"
     ]
    }
   ],
   "source": [
    "n=int(input(\"Enter the length of list - \"))\n",
    "p=[]\n",
    "\n",
    "for i in range(n):\n",
    "    p.append(int(input()))\n",
    "\n",
    "print(\"List - \",p)\n",
    "\n",
    "k=[]  \n",
    "for j in p:\n",
    "    if j%2==0:\n",
    "        k.append(j)\n",
    "print(\"Even no -\", k)\n",
    "        "
   ]
  },
  {
   "cell_type": "markdown",
   "id": "d0a15530",
   "metadata": {},
   "source": [
    "Q8. Write a Python program to print odd numbers in a List?"
   ]
  },
  {
   "cell_type": "code",
   "execution_count": 14,
   "id": "e48c9d25",
   "metadata": {},
   "outputs": [
    {
     "name": "stdout",
     "output_type": "stream",
     "text": [
      "Enter the length of list - 5\n",
      "1\n",
      "2\n",
      "3\n",
      "4\n",
      "5\n",
      "List -  [1, 2, 3, 4, 5]\n",
      "Odd no - [1, 3, 5]\n"
     ]
    }
   ],
   "source": [
    "n=int(input(\"Enter the length of list - \"))\n",
    "p=[]\n",
    "\n",
    "for i in range(n):\n",
    "    p.append(int(input()))\n",
    "\n",
    "print(\"List - \",p)\n",
    "\n",
    "k=[]  \n",
    "for j in p:\n",
    "    if j%2!=0:\n",
    "        k.append(j)\n",
    "print(\"Odd no -\", k)"
   ]
  },
  {
   "cell_type": "markdown",
   "id": "e02056e7",
   "metadata": {},
   "source": [
    "Q9. Write a Python program to Remove empty List from Write List? "
   ]
  },
  {
   "cell_type": "code",
   "execution_count": 18,
   "id": "070f9f7d",
   "metadata": {},
   "outputs": [
    {
     "name": "stdout",
     "output_type": "stream",
     "text": [
      "[1, 2, 4, 'ffcd', 4, 'f', 5, 44]\n"
     ]
    }
   ],
   "source": [
    "k= [1,2,4,\"ffcd\",4,\"f\",5,[],44,[],]\n",
    "\n",
    "\n",
    "z=[]    \n",
    "for j in k:\n",
    "    if j!=[]:\n",
    "        z.append(j)\n",
    "print(z)    "
   ]
  },
  {
   "cell_type": "markdown",
   "id": "74a162fb",
   "metadata": {},
   "source": [
    "Q10. Write a Python program to Cloning or Copying a list?"
   ]
  },
  {
   "cell_type": "code",
   "execution_count": 23,
   "id": "503897ee",
   "metadata": {},
   "outputs": [
    {
     "name": "stdout",
     "output_type": "stream",
     "text": [
      "Enter the lenth of  list : 5\n",
      "1\n",
      "2\n",
      "3\n",
      "5\n",
      "5\n",
      "List -  [1, 2, 3, 5, 5]\n"
     ]
    }
   ],
   "source": [
    "n = int(input(\"Enter the lenth of  list : \"))\n",
    "p = []\n",
    "\n",
    "for i in range(n):\n",
    "    p.append(int(input()))\n",
    "print(\"List - \",p)"
   ]
  },
  {
   "cell_type": "markdown",
   "id": "8d0ca643",
   "metadata": {},
   "source": [
    "Q10. Write a Python program to Count occurrences of an element in a list?"
   ]
  },
  {
   "cell_type": "code",
   "execution_count": 30,
   "id": "a8f7bd52",
   "metadata": {},
   "outputs": [
    {
     "name": "stdout",
     "output_type": "stream",
     "text": [
      "Enter the length of list - 4\n",
      "1\n",
      "1\n",
      "2\n",
      "1\n",
      "1 count: 3\n",
      "2 count: 1\n"
     ]
    }
   ],
   "source": [
    "n=int(input(\"Enter the length of list - \"))\n",
    "\n",
    "p=[]\n",
    "for i in range(n):\n",
    "    p.append(int(input()))\n",
    "    \n",
    "for j in set(p):\n",
    "    print(j,\"count:\",p.count(j))\n",
    "    "
   ]
  },
  {
   "cell_type": "code",
   "execution_count": null,
   "id": "2f046299",
   "metadata": {},
   "outputs": [],
   "source": []
  }
 ],
 "metadata": {
  "kernelspec": {
   "display_name": "Python 3 (ipykernel)",
   "language": "python",
   "name": "python3"
  },
  "language_info": {
   "codemirror_mode": {
    "name": "ipython",
    "version": 3
   },
   "file_extension": ".py",
   "mimetype": "text/x-python",
   "name": "python",
   "nbconvert_exporter": "python",
   "pygments_lexer": "ipython3",
   "version": "3.9.12"
  }
 },
 "nbformat": 4,
 "nbformat_minor": 5
}
