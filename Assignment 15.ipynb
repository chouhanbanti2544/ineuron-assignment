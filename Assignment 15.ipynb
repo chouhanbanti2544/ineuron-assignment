{
 "cells": [
  {
   "cell_type": "markdown",
   "id": "52b8de22",
   "metadata": {},
   "source": [
    "Question 1: Please write a program using generator to print the numbers which can be divisible by 5 and 7 between 0 and n in comma separated form while n is input by console. Example: If the following n is given as input to the program: 100 Then, the output of the program should be: 0,35,70"
   ]
  },
  {
   "cell_type": "code",
   "execution_count": 9,
   "id": "4db35c77",
   "metadata": {},
   "outputs": [
    {
     "name": "stdout",
     "output_type": "stream",
     "text": [
      "Enter a number - 100\n",
      "[0, 35, 70]\n"
     ]
    }
   ],
   "source": [
    "n=int(input(\"Enter a number - \"))\n",
    "i=0\n",
    "k=[]\n",
    "while i<=n:\n",
    "    if i%5==0 and i%7==0:\n",
    "        k.append(i)\n",
    "    i=i+1\n",
    "print(k)"
   ]
  },
  {
   "cell_type": "markdown",
   "id": "8637ba8d",
   "metadata": {},
   "source": [
    "Question 2: Please write a program using generator to print the even numbers between 0 and n in comma separated form while n is input by console. Example: If the following n is given as input to the program: 10 Then, the output of the program should be: 0,2,4,6,8,10"
   ]
  },
  {
   "cell_type": "code",
   "execution_count": 10,
   "id": "dc8a1493",
   "metadata": {},
   "outputs": [
    {
     "name": "stdout",
     "output_type": "stream",
     "text": [
      "Enter a number - 100\n",
      "[0, 2, 4, 6, 8, 10, 12, 14, 16, 18, 20, 22, 24, 26, 28, 30, 32, 34, 36, 38, 40, 42, 44, 46, 48, 50, 52, 54, 56, 58, 60, 62, 64, 66, 68, 70, 72, 74, 76, 78, 80, 82, 84, 86, 88, 90, 92, 94, 96, 98, 100]\n"
     ]
    }
   ],
   "source": [
    "n=int(input(\"Enter a number - \"))\n",
    "i=0\n",
    "k=[]\n",
    "while i<=n:\n",
    "    if i%2==0:\n",
    "        k.append(i)\n",
    "    i=i+1   \n",
    "print(k)"
   ]
  },
  {
   "cell_type": "markdown",
   "id": "c3c0dc5a",
   "metadata": {},
   "source": [
    "Question 3: The Fibonacci Sequence is computed based on the following formula: f(n)=0 if n=0 f(n)=1 if n=1 f(n)=f(n-1)+f(n-2) if n>1 Please write a program using list comprehension to print the Fibonacci Sequence in comma separated form with a given n input by console. Example: If the following n is given as input to the program: 7"
   ]
  },
  {
   "cell_type": "code",
   "execution_count": 11,
   "id": "058b7001",
   "metadata": {},
   "outputs": [
    {
     "name": "stdout",
     "output_type": "stream",
     "text": [
      "[0, 1, 1, 2, 3, 5, 8, 13, 21, 34, 55, 89, 144, 233, 377, 610]\n"
     ]
    }
   ],
   "source": [
    "def question_62(n):\n",
    "    if n == 0:\n",
    "        return [0]\n",
    "    if n == 1:\n",
    "        return [0, 1]\n",
    "    sequence = [0, 1]\n",
    "    a, b = 0, 1\n",
    "    for x in range(2, n+1):\n",
    "        c = a + b\n",
    "        sequence.append(c)\n",
    "        a = b\n",
    "        b = c\n",
    "    return sequence\n",
    "\n",
    "print(question_62(15))"
   ]
  },
  {
   "cell_type": "markdown",
   "id": "8d58092d",
   "metadata": {},
   "source": [
    "Question 4:\n",
    "Assuming that we have some email addresses in the \"username@companyname.com\" format, please write program to print the user name of a given email address. Both user names and company names are composed of letters only.\n",
    "Example:\n",
    "If the following email address is given as input to the program:\n",
    "john@google.com\n",
    "Then, the output of the program should be:\n",
    "john\n",
    " Both classes have a area function which can print the area of the shape where Shape's area is 0 by default.\n"
   ]
  },
  {
   "cell_type": "code",
   "execution_count": 28,
   "id": "94f757a8",
   "metadata": {},
   "outputs": [
    {
     "name": "stdout",
     "output_type": "stream",
     "text": [
      "Enter emaild - bantichouhan@gmail.com\n",
      "bantichouhan\n"
     ]
    }
   ],
   "source": [
    "h= input(\"Enter emaild - \")\n",
    "k=[]\n",
    "for i in h:\n",
    "        k.append(i)\n",
    "\n",
    "\n",
    "q=''   \n",
    "for j in k:\n",
    "    if j==\"@\":\n",
    "        break\n",
    "    q=q+j\n",
    "        \n",
    "print(q)"
   ]
  },
  {
   "cell_type": "markdown",
   "id": "955dcfc1",
   "metadata": {},
   "source": [
    "Q5 define a class named Shape and its subclass Square. The Square class has an init function which takes a length as argument. Both classes have a area function which can print the area of the shape where Shape's area is 0 by default."
   ]
  },
  {
   "cell_type": "code",
   "execution_count": 34,
   "id": "bda97d0e",
   "metadata": {},
   "outputs": [
    {
     "name": "stdout",
     "output_type": "stream",
     "text": [
      "Enter no - 20\n",
      "400\n"
     ]
    }
   ],
   "source": [
    "class shape:\n",
    "    area=0\n",
    "    pass\n",
    "    \n",
    "class square:\n",
    "    def __init__(self,length):\n",
    "        self.length= length\n",
    "        a=self.length*self.length\n",
    "        print(a)\n",
    "        \n",
    "obj = square(int(input(\"Enter no - \")))\n"
   ]
  }
 ],
 "metadata": {
  "kernelspec": {
   "display_name": "Python 3 (ipykernel)",
   "language": "python",
   "name": "python3"
  },
  "language_info": {
   "codemirror_mode": {
    "name": "ipython",
    "version": 3
   },
   "file_extension": ".py",
   "mimetype": "text/x-python",
   "name": "python",
   "nbconvert_exporter": "python",
   "pygments_lexer": "ipython3",
   "version": "3.9.12"
  }
 },
 "nbformat": 4,
 "nbformat_minor": 5
}
