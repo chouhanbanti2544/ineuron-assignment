{
 "cells": [
  {
   "cell_type": "markdown",
   "id": "a9656fd9",
   "metadata": {},
   "source": [
    "1.\tWrite a Python program to find words which are greater than given length k?\n",
    "2.\tWrite a Python program for removing i-th character from a string?\n",
    "3.\tWrite a Python program to split and join a string?\n",
    "4.\tWrite a Python to check if a given string is binary string or not?\n",
    "5.\tWrite a Python program to find uncommon words from two Strings?\n",
    "6.\tWrite a Python to find all duplicate characters in string?\n",
    "7.\tWrite a Python Program to check if a string contains any special character?\n"
   ]
  },
  {
   "cell_type": "markdown",
   "id": "eaa271fd",
   "metadata": {},
   "source": [
    "1. Write a Python program to find words which are greater than given length k?"
   ]
  },
  {
   "cell_type": "code",
   "execution_count": 22,
   "id": "c4e1bef0",
   "metadata": {},
   "outputs": [
    {
     "name": "stdout",
     "output_type": "stream",
     "text": [
      "Enter a string - this is very good things and beautyfull\n",
      "['this', 'is', 'very', 'good', 'things', 'and', 'beautyfull']\n",
      "Enter a number - 6\n",
      "['beautyfull']\n"
     ]
    }
   ],
   "source": [
    "g = input(\"Enter a string - \")\n",
    "k=g.split()\n",
    "h=[]\n",
    "for i in k:\n",
    "    h.append(i)\n",
    "\n",
    "    \n",
    "print(h)\n",
    "\n",
    "l=[]\n",
    "n=int(input(\"Enter a number - \"))\n",
    "for j in range(len(h)):\n",
    "    if len(h[j])>(n+1):\n",
    "        l.append(h[j])\n",
    "        \n",
    "print(l)          "
   ]
  },
  {
   "cell_type": "markdown",
   "id": "25aa9b15",
   "metadata": {},
   "source": [
    "2. Write a Python program for removing i-th character from a string?"
   ]
  },
  {
   "cell_type": "code",
   "execution_count": 31,
   "id": "5fe50836",
   "metadata": {},
   "outputs": [
    {
     "name": "stdout",
     "output_type": "stream",
     "text": [
      "Enter a string - bantichouhan\n",
      "Enter a index no - 3\n",
      "banichouhan\n"
     ]
    }
   ],
   "source": [
    "l=input(\"Enter a string - \")\n",
    "k=[]\n",
    "for i in l:\n",
    "    k.append(i)\n",
    "    \n",
    "k.pop(int(input(\"Enter a index no - \")))\n",
    "\n",
    "g=\"\"\n",
    "for j in k:\n",
    "    g=g+j\n",
    "print(g)"
   ]
  },
  {
   "cell_type": "markdown",
   "id": "269a11f5",
   "metadata": {},
   "source": [
    "3. Write a Python program to split and join a string?"
   ]
  },
  {
   "cell_type": "code",
   "execution_count": 37,
   "id": "1c1f9790",
   "metadata": {},
   "outputs": [
    {
     "name": "stdout",
     "output_type": "stream",
     "text": [
      "Enter a string - python is a easy language \n",
      "Split string -  ['python', 'is', 'a', 'easy', 'language']\n",
      "Join string -  pythonisaeasylanguage\n"
     ]
    }
   ],
   "source": [
    "w=input(\"Enter a string - \")\n",
    "\n",
    "j=w.split()\n",
    "\n",
    "print(\"Split string - \", j)\n",
    "\n",
    "h=''.join(j)\n",
    "print(\"Join string - \", h)"
   ]
  },
  {
   "cell_type": "markdown",
   "id": "8ff441cf",
   "metadata": {},
   "source": [
    "4. Write a Python to check if a given string is binary string or not?"
   ]
  },
  {
   "cell_type": "code",
   "execution_count": 113,
   "id": "14389c42",
   "metadata": {},
   "outputs": [
    {
     "name": "stdout",
     "output_type": "stream",
     "text": [
      "Enter a string - 01\n",
      "it's binary\n"
     ]
    }
   ],
   "source": [
    "a = input(\"Enter a string - \")\n",
    "b='01'\n",
    "for i in a:\n",
    "    if i not in b:\n",
    "        print(\"not binary\")\n",
    "        break\n",
    "    else:\n",
    "        print(\"it's binary\")\n",
    "        break\n",
    "  "
   ]
  },
  {
   "cell_type": "markdown",
   "id": "f3cf3d38",
   "metadata": {},
   "source": [
    "5. Write a Python program to find uncommon words from two Strings?"
   ]
  },
  {
   "cell_type": "code",
   "execution_count": 48,
   "id": "93290e6f",
   "metadata": {},
   "outputs": [
    {
     "name": "stdout",
     "output_type": "stream",
     "text": [
      "Enter a 1st string - python is very easy to learn\n",
      "Enter a 2nd string - java is very good\n",
      "uncommon words   python easy to learn java good\n"
     ]
    }
   ],
   "source": [
    "a=input(\"Enter a 1st string - \")\n",
    "b=input(\"Enter a 2nd string - \")\n",
    "\n",
    "c=a.split()\n",
    "d=b.split()\n",
    "\n",
    "l= \" \"\n",
    "\n",
    "for i in c:\n",
    "    if i not in d:\n",
    "        l=l+\" \"+i\n",
    "        \n",
    "for j in d:\n",
    "    if j not in c:\n",
    "        l=l+\" \"+j\n",
    "        \n",
    "            \n",
    "            \n",
    "print(\"uncommon words\", l)          "
   ]
  },
  {
   "cell_type": "markdown",
   "id": "0a465217",
   "metadata": {},
   "source": [
    "6. Write a Python to find all duplicate characters in string?"
   ]
  },
  {
   "cell_type": "code",
   "execution_count": 66,
   "id": "4396f59a",
   "metadata": {},
   "outputs": [
    {
     "name": "stdout",
     "output_type": "stream",
     "text": [
      "Enter a string - this is new thing\n",
      "['t', 'h', 'i', 's', ' ', 'n']\n"
     ]
    }
   ],
   "source": [
    "k = input(\"Enter a string - \")\n",
    "d=[]\n",
    "\n",
    "for i in k:\n",
    "    if k.count(i)>1:\n",
    "        if i not in d:\n",
    "            d.append(i)\n",
    "        \n",
    "       \n",
    "   \n",
    "print(d)"
   ]
  },
  {
   "cell_type": "markdown",
   "id": "33122f78",
   "metadata": {},
   "source": [
    "7. Write a Python Program to check if a string contains any special character?"
   ]
  },
  {
   "cell_type": "code",
   "execution_count": 166,
   "id": "41f18a71",
   "metadata": {},
   "outputs": [
    {
     "name": "stdout",
     "output_type": "stream",
     "text": [
      "Enter string - banti@\n",
      "special character -  @\n",
      "special character available\n"
     ]
    }
   ],
   "source": [
    "g= input(\"Enter string - \")\n",
    "g.split()\n",
    "l='[@#$%]'\n",
    "k=\"\"\n",
    "count=0\n",
    "for i in g:\n",
    "    if i in l:\n",
    "        k=k+i\n",
    "        count=count+1\n",
    "print(\"special character - \",k)\n",
    "\n",
    "if count>0:\n",
    "    print(\"special character available\")\n",
    "else :\n",
    "    print(\"no available\")\n",
    "    \n"
   ]
  },
  {
   "cell_type": "code",
   "execution_count": null,
   "id": "51f53176",
   "metadata": {},
   "outputs": [],
   "source": []
  }
 ],
 "metadata": {
  "kernelspec": {
   "display_name": "Python 3 (ipykernel)",
   "language": "python",
   "name": "python3"
  },
  "language_info": {
   "codemirror_mode": {
    "name": "ipython",
    "version": 3
   },
   "file_extension": ".py",
   "mimetype": "text/x-python",
   "name": "python",
   "nbconvert_exporter": "python",
   "pygments_lexer": "ipython3",
   "version": "3.9.12"
  }
 },
 "nbformat": 4,
 "nbformat_minor": 5
}
